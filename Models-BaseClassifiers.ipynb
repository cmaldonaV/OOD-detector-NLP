{
 "cells": [
  {
   "cell_type": "code",
   "execution_count": 87,
   "metadata": {},
   "outputs": [],
   "source": [
    "import numpy as np\n",
    "import pandas as pd\n",
    "import os\n",
    "import random\n",
    "import time\n",
    "import transformers\n",
    "from keras.preprocessing.text import Tokenizer\n",
    "from transformers import BertModel, BertTokenizer, AdamW, get_linear_schedule_with_warmup\n",
    "from sklearn.model_selection import train_test_split\n",
    "import torch\n",
    "from keras.preprocessing.sequence import pad_sequences\n",
    "import tensorflow_hub as hub\n",
    "from torch.utils.data import Dataset, DataLoader, RandomSampler, SequentialSampler\n",
    "import seaborn as sns\n",
    "import matplotlib.pyplot as plt\n",
    "from collections import Counter\n",
    "from tqdm.notebook import tqdm\n",
    "from sklearn.preprocessing import LabelEncoder\n",
    "from torch import cuda,nn\n",
    "import torch.autograd as autograd\n",
    "import torch.nn.functional as F"
   ]
  },
  {
   "cell_type": "code",
   "execution_count": 2,
   "metadata": {},
   "outputs": [
    {
     "name": "stdout",
     "output_type": "stream",
     "text": [
      "Requirement already satisfied: transformers in c:\\users\\camilo\\anaconda3\\lib\\site-packages (4.3.2)\n",
      "Requirement already satisfied: requests in c:\\users\\camilo\\anaconda3\\lib\\site-packages (from transformers) (2.24.0)\n",
      "Requirement already satisfied: numpy>=1.17 in c:\\users\\camilo\\anaconda3\\lib\\site-packages (from transformers) (1.19.2)\n",
      "Requirement already satisfied: tokenizers<0.11,>=0.10.1 in c:\\users\\camilo\\anaconda3\\lib\\site-packages (from transformers) (0.10.1)\n",
      "Requirement already satisfied: tqdm>=4.27 in c:\\users\\camilo\\anaconda3\\lib\\site-packages (from transformers) (4.50.2)\n",
      "Requirement already satisfied: filelock in c:\\users\\camilo\\anaconda3\\lib\\site-packages (from transformers) (3.0.12)\n",
      "Requirement already satisfied: sacremoses in c:\\users\\camilo\\anaconda3\\lib\\site-packages (from transformers) (0.0.43)\n",
      "Requirement already satisfied: packaging in c:\\users\\camilo\\anaconda3\\lib\\site-packages (from transformers) (20.4)\n",
      "Requirement already satisfied: regex!=2019.12.17 in c:\\users\\camilo\\anaconda3\\lib\\site-packages (from transformers) (2020.10.15)\n",
      "Requirement already satisfied: urllib3!=1.25.0,!=1.25.1,<1.26,>=1.21.1 in c:\\users\\camilo\\anaconda3\\lib\\site-packages (from requests->transformers) (1.25.11)\n",
      "Requirement already satisfied: certifi>=2017.4.17 in c:\\users\\camilo\\anaconda3\\lib\\site-packages (from requests->transformers) (2020.6.20)\n",
      "Requirement already satisfied: chardet<4,>=3.0.2 in c:\\users\\camilo\\anaconda3\\lib\\site-packages (from requests->transformers) (3.0.4)\n",
      "Requirement already satisfied: idna<3,>=2.5 in c:\\users\\camilo\\anaconda3\\lib\\site-packages (from requests->transformers) (2.10)\n",
      "Requirement already satisfied: click in c:\\users\\camilo\\anaconda3\\lib\\site-packages (from sacremoses->transformers) (7.1.2)\n",
      "Requirement already satisfied: joblib in c:\\users\\camilo\\anaconda3\\lib\\site-packages (from sacremoses->transformers) (0.17.0)\n",
      "Requirement already satisfied: six in c:\\users\\camilo\\anaconda3\\lib\\site-packages (from sacremoses->transformers) (1.15.0)\n",
      "Requirement already satisfied: pyparsing>=2.0.2 in c:\\users\\camilo\\anaconda3\\lib\\site-packages (from packaging->transformers) (2.4.7)\n"
     ]
    }
   ],
   "source": [
    "torch.set_printoptions(precision=10)\n",
    "!pip install transformers\n",
    "# SEEDS \n",
    "# [3,42,107,33,17]\n",
    "seed = 3\n",
    "# 1. Set `PYTHONHASHSEED` environment variable at a fixed value\n",
    "os.environ['PYTHONHASHSEED']=str(seed)\n",
    "# 2. Set `python` built-in pseudo-random generator at a fixed value\n",
    "random.seed(seed)\n",
    "# 3. Set `numpy` pseudo-random generator at a fixed value\n",
    "np.random.seed(seed)\n",
    "# 4. Set the `tensorflow` pseudo-random generator at a fixed value\n",
    "torch.manual_seed(seed)\n",
    "\n",
    "device = torch.device(\"cuda\") if torch.cuda.is_available() else torch.device(\"cpu\")\n",
    "dataset = 'clinc'"
   ]
  },
  {
   "cell_type": "markdown",
   "metadata": {},
   "source": [
    "# Data"
   ]
  },
  {
   "cell_type": "code",
   "execution_count": 3,
   "metadata": {},
   "outputs": [
    {
     "name": "stdout",
     "output_type": "stream",
     "text": [
      "<class 'pandas.core.frame.DataFrame'>\n",
      "Int64Index: 22500 entries, 17933 to 5994\n",
      "Data columns (total 5 columns):\n",
      " #   Column    Non-Null Count  Dtype \n",
      "---  ------    --------------  ----- \n",
      " 0   text_raw  22500 non-null  object\n",
      " 1   label     22500 non-null  object\n",
      " 2   group     22500 non-null  object\n",
      " 3   text      22500 non-null  object\n",
      " 4   class     22500 non-null  int64 \n",
      "dtypes: int64(1), object(4)\n",
      "memory usage: 1.0+ MB\n"
     ]
    }
   ],
   "source": [
    "path_data = '\\\\Users\\\\Camilo\\\\Desktop\\\\tesis\\\\codes\\\\data\\\\'\n",
    "df = pd.read_csv(path_data+dataset+'Data.csv', delimiter='@')\n",
    "df = df.sample(frac=1)\n",
    "df.text = df.text.apply(lambda x: str(x))\n",
    "df.info()"
   ]
  },
  {
   "cell_type": "code",
   "execution_count": 199,
   "metadata": {},
   "outputs": [
    {
     "name": "stdout",
     "output_type": "stream",
     "text": [
      "Larges of percentiles\n"
     ]
    },
    {
     "data": {
      "text/plain": [
       "array([ 3.,  4.,  5.,  6., 15.])"
      ]
     },
     "execution_count": 199,
     "metadata": {},
     "output_type": "execute_result"
    }
   ],
   "source": [
    "data = df['text'].apply(lambda x: len(str(x).split()))\n",
    "print('Larges of percentiles')\n",
    "np.percentile(data, [25, 50, 75,90,100])"
   ]
  },
  {
   "cell_type": "markdown",
   "metadata": {},
   "source": [
    "# Embeddings"
   ]
  },
  {
   "cell_type": "markdown",
   "metadata": {},
   "source": [
    "## GloVe"
   ]
  },
  {
   "cell_type": "code",
   "execution_count": 110,
   "metadata": {},
   "outputs": [],
   "source": [
    "def loadGlove(df,dim=50):\n",
    "    docs = df.text.values\n",
    "    t = Tokenizer()\n",
    "    t.fit_on_texts(docs)\n",
    "    vocab_size = len(t.word_index) + 1\n",
    "    # load the whole embedding into memory\n",
    "    embeddings_index = dict()\n",
    "    f = open('\\\\Users\\\\Camilo\\\\Desktop\\\\tesis\\\\codes\\\\embs\\\\glove.twitter.27B.'+str(dim)+'d.txt')\n",
    "    for line in f:\n",
    "        values = line.split()\n",
    "        word = values[0]\n",
    "        coefs = np.asarray(values[1:], dtype='float32')\n",
    "        embeddings_index[word] = coefs\n",
    "    f.close()\n",
    "    print('Loaded %s word vectors.' % len(embeddings_index))\n",
    "\n",
    "    embedding_matrix = np.zeros((vocab_size, dim))\n",
    "    for word, i in t.word_index.items():\n",
    "        embedding_vector = embeddings_index.get(word)\n",
    "        if embedding_vector is not None:\n",
    "            embedding_matrix[i] = embedding_vector\n",
    "    emb_m = torch.tensor(embedding_matrix)\n",
    "    embeds = torch.nn.Embedding(num_embeddings=vocab_size, embedding_dim=50,_weight=emb_m)\n",
    "\n",
    "    return embeds,t,embeddings_index\n",
    "\n",
    "def emb_Glove(df,max_length,t,emb):\n",
    "    docs = df.text.values\n",
    "    outs = df['class'].values\n",
    "    encoded_docs = t.texts_to_sequences(docs)\n",
    "    padded_docs = pad_sequences(encoded_docs, maxlen=max_length, padding='post')\n",
    "    lookup_tensor = torch.tensor(padded_docs, dtype=torch.long)\n",
    "    data_embed = emb(lookup_tensor)\n",
    "    y = torch.tensor(outs, dtype=torch.int16)\n",
    "    return  data_embed.to(torch.float32),y"
   ]
  },
  {
   "cell_type": "code",
   "execution_count": 69,
   "metadata": {},
   "outputs": [
    {
     "name": "stdout",
     "output_type": "stream",
     "text": [
      "Loaded 1193515 word vectors.\n"
     ]
    }
   ],
   "source": [
    "emb,tok,voc = loadGlove(df[df.group == 'train'],dim=50)"
   ]
  },
  {
   "cell_type": "code",
   "execution_count": 111,
   "metadata": {},
   "outputs": [],
   "source": [
    "X_train,y_train = emb_Glove(df[df.group == 'train'],20,tok,emb)\n",
    "X_val,y_val = emb_Glove(df[df.group == 'val'],20,tok,emb)\n",
    "X_test,y_test = emb_Glove(df[df.group == 'test'],20,tok,emb)"
   ]
  },
  {
   "cell_type": "code",
   "execution_count": 139,
   "metadata": {},
   "outputs": [],
   "source": [
    "def embGlove(df,max_length):\n",
    "    docs = df.text.values\n",
    "    outs = df['class'].values\n",
    "    t = Tokenizer()\n",
    "    t.fit_on_texts(docs)\n",
    "    vocab_size = len(t.word_index) + 1\n",
    "    encoded_docs = t.texts_to_sequences(docs)\n",
    "    padded_docs = pad_sequences(encoded_docs, maxlen=max_length, padding='post')\n",
    "\n",
    "    # load the whole embedding into memory\n",
    "    embeddings_index = dict()\n",
    "    f = open('\\\\Users\\\\Camilo\\\\Desktop\\\\tesis\\\\codes\\\\embs\\\\glove.twitter.27B.50d.txt')\n",
    "    for line in f:\n",
    "        values = line.split()\n",
    "        word = values[0]\n",
    "        coefs = np.asarray(values[1:], dtype='float32')\n",
    "        embeddings_index[word] = coefs\n",
    "    f.close()\n",
    "    print('Loaded %s word vectors.' % len(embeddings_index))\n",
    "\n",
    "    # create a weight matrix for words in training docs\n",
    "    embedding_matrix = np.zeros((vocab_size, 50))\n",
    "    for word, i in t.word_index.items():\n",
    "        embedding_vector = embeddings_index.get(word)\n",
    "        if embedding_vector is not None:\n",
    "            embedding_matrix[i] = embedding_vector\n",
    "    emb_m = torch.tensor(embedding_matrix)\n",
    "    # loaded emb matrix\n",
    "    embeds = torch.nn.Embedding(num_embeddings=vocab_size, embedding_dim=50,_weight=emb_m)\n",
    "    # embedding docs\n",
    "    lookup_tensor = torch.tensor(padded_docs, dtype=torch.long)\n",
    "  \n",
    "    data_embed = embeds(lookup_tensor)\n",
    "    y = torch.tensor(outs, dtype=torch.int16)\n",
    "    return data_embed.to(torch.float32),y"
   ]
  },
  {
   "cell_type": "code",
   "execution_count": 140,
   "metadata": {},
   "outputs": [
    {
     "name": "stdout",
     "output_type": "stream",
     "text": [
      "Loaded 1193515 word vectors.\n"
     ]
    }
   ],
   "source": [
    "X_train,y_train = embGlove(df[df.group == 'train'],20)\n",
    "#X_val,y_val = embGlove(df[df.group == 'val'],20)\n",
    "#X_test,y_test = embGlove(df[df.group == 'test'],20)"
   ]
  },
  {
   "cell_type": "markdown",
   "metadata": {},
   "source": [
    "## USE vector"
   ]
  },
  {
   "cell_type": "code",
   "execution_count": 38,
   "metadata": {},
   "outputs": [],
   "source": [
    "def emb_USE(df,emb):\n",
    "  docs = df.text.values\n",
    "  v = emb(docs).numpy()\n",
    "  return torch.tensor(v,dtype=torch.float32)"
   ]
  },
  {
   "cell_type": "code",
   "execution_count": 39,
   "metadata": {
    "collapsed": true,
    "jupyter": {
     "outputs_hidden": true
    }
   },
   "outputs": [
    {
     "name": "stderr",
     "output_type": "stream",
     "text": [
      "INFO:absl:Using C:\\Users\\Camilo\\AppData\\Local\\Temp\\tfhub_modules to cache modules.\n",
      "INFO:absl:Downloading TF-Hub Module 'https://tfhub.dev/google/universal-sentence-encoder-large/5'.\n",
      "INFO:absl:Downloading https://tfhub.dev/google/universal-sentence-encoder-large/5: 310.04MB\n",
      "INFO:absl:Downloaded https://tfhub.dev/google/universal-sentence-encoder-large/5, Total size: 577.10MB\n",
      "INFO:absl:Downloaded TF-Hub Module 'https://tfhub.dev/google/universal-sentence-encoder-large/5'.\n"
     ]
    }
   ],
   "source": [
    "emb_use = hub.load(\"https://tfhub.dev/google/universal-sentence-encoder/4\")\n",
    "emb_use_large = hub.load(\"https://tfhub.dev/google/universal-sentence-encoder-large/5\")"
   ]
  },
  {
   "cell_type": "code",
   "execution_count": 42,
   "metadata": {},
   "outputs": [
    {
     "data": {
      "text/plain": [
       "torch.Size([12000, 512])"
      ]
     },
     "execution_count": 42,
     "metadata": {},
     "output_type": "execute_result"
    }
   ],
   "source": [
    "vec = emb_USE(df[df.group == 'train'],emb_use) \n",
    "vec.shape"
   ]
  },
  {
   "cell_type": "code",
   "execution_count": 41,
   "metadata": {},
   "outputs": [
    {
     "data": {
      "text/plain": [
       "torch.Size([12000, 512])"
      ]
     },
     "execution_count": 41,
     "metadata": {},
     "output_type": "execute_result"
    }
   ],
   "source": [
    "vec_large = emb_USE(df[df.group == 'train'],emb_use_large) \n",
    "vec.shape"
   ]
  },
  {
   "cell_type": "markdown",
   "metadata": {},
   "source": [
    "## BERT emb"
   ]
  },
  {
   "cell_type": "code",
   "execution_count": 35,
   "metadata": {},
   "outputs": [],
   "source": [
    "preTrainedModel = 'bert-base-uncased'\n",
    "tokenizer = BertTokenizer.from_pretrained(preTrainedModel)\n",
    "bert_model = BertModel.from_pretrained(preTrainedModel)\n",
    "\n",
    "class CustomDataset(Dataset):\n",
    "    def __init__(self, dataframe, tokenizer, max_len):\n",
    "        self.tokenizer = tokenizer\n",
    "        self.data = dataframe\n",
    "        self.sentence = dataframe.text.values\n",
    "        #self.targets = self.data['class'].values\n",
    "        self.max_len = max_len\n",
    "    def __len__(self):\n",
    "        return len(self.sentence)\n",
    "    def __getitem__(self, index):\n",
    "        sentence = str(self.sentence[index])\n",
    "        sentence = \" \".join(sentence.split())\n",
    "        inputs = self.tokenizer.encode_plus(\n",
    "            sentence,\n",
    "            None,\n",
    "            add_special_tokens=True,\n",
    "            max_length=self.max_len,\n",
    "            pad_to_max_length=True,\n",
    "            return_token_type_ids=True,\n",
    "            padding='max_length',\n",
    "            truncation=True\n",
    "        )\n",
    "        ids = inputs['input_ids'] #Ids del vocabulario\n",
    "        mask = inputs['attention_mask'] #Mascaras para definir donde la atencion deberia ver\n",
    "        token_type_ids = inputs[\"token_type_ids\"] #requerido pero no utilizado\n",
    "        \n",
    "        return {\n",
    "            'ids': torch.tensor(ids, dtype=torch.long),\n",
    "            'mask': torch.tensor(mask, dtype=torch.long),\n",
    "            'token_type_ids': torch.tensor(token_type_ids, dtype=torch.long)\n",
    "            #'targets': torch.tensor(self.targets[index], dtype=torch.float)\n",
    "        }\n",
    "\n",
    "def validation(epoch,val_loader):\n",
    "    model.eval()\n",
    "    fin_outputs=[]\n",
    "    with torch.no_grad():\n",
    "        for _, data in tqdm(enumerate(val_loader, 0),total = len(val_loader)):\n",
    "            ids = data['ids'].to(device, dtype = torch.long)\n",
    "            mask = data['mask'].to(device, dtype = torch.long)\n",
    "            token_type_ids = data['token_type_ids'].to(device, dtype = torch.long)\n",
    "\n",
    "            outputs = model(ids, mask, token_type_ids)\n",
    "            #fin_targets.extend(targets.cpu().detach().numpy().tolist())\n",
    "            #fin_outputs.extend((outputs).squeeze(1).cpu().detach().numpy())\n",
    "            fin_outputs.extend((outputs))\n",
    "    \n",
    "    return (fin_outputs)#, np.array(fin_targets)"
   ]
  },
  {
   "cell_type": "code",
   "execution_count": 17,
   "metadata": {
    "collapsed": true,
    "jupyter": {
     "outputs_hidden": true
    }
   },
   "outputs": [
    {
     "name": "stderr",
     "output_type": "stream",
     "text": [
      "C:\\Users\\Camilo\\anaconda3\\lib\\site-packages\\seaborn\\distributions.py:2551: FutureWarning: `distplot` is a deprecated function and will be removed in a future version. Please adapt your code to use either `displot` (a figure-level function with similar flexibility) or `histplot` (an axes-level function for histograms).\n",
      "  warnings.warn(msg, FutureWarning)\n"
     ]
    },
    {
     "name": "stdout",
     "output_type": "stream",
     "text": [
      "24\n",
      "cuda:0\n"
     ]
    },
    {
     "data": {
      "image/png": "[encoded data removed]",
      "text/plain": [
       "<Figure size 432x288 with 1 Axes>"
      ]
     },
     "metadata": {
      "needs_background": "light"
     },
     "output_type": "display_data"
    }
   ],
   "source": [
    "token_lens = []\n",
    "for txt in df.text:\n",
    "  toks = tokenizer.encode(txt, max_length=512)\n",
    "  token_lens.append(len(toks))\n",
    "\n",
    "sns.distplot(token_lens)\n",
    "print(np.max(token_lens))\n",
    "plt.xlabel('Token count');\n",
    "device = 'cuda:0' if cuda.is_available() else 'cpu'\n",
    "print(device)"
   ]
  },
  {
   "cell_type": "code",
   "execution_count": 36,
   "metadata": {},
   "outputs": [
    {
     "data": {
      "application/vnd.jupyter.widget-view+json": {
       "model_id": "253af518a9634735a42ea5863f5605bf",
       "version_major": 2,
       "version_minor": 0
      },
      "text/plain": [
       "HBox(children=(HTML(value=''), FloatProgress(value=0.0, max=1500.0), HTML(value='')))"
      ]
     },
     "metadata": {},
     "output_type": "display_data"
    },
    {
     "name": "stdout",
     "output_type": "stream",
     "text": [
      "\n"
     ]
    }
   ],
   "source": [
    "MAX_LEN = 20 # Len in function of dataset\n",
    "training_set = CustomDataset(df[df.group == 'train'], tokenizer, MAX_LEN)\n",
    "\n",
    "TEST_BATCH_SIZE = 8\n",
    "\n",
    "test_params = {'batch_size': TEST_BATCH_SIZE,\n",
    "                'shuffle': True,\n",
    "                'num_workers': 0\n",
    "                }\n",
    "\n",
    "# Dataloaders for pytorch\n",
    "\n",
    "training_loader = DataLoader(training_set, **test_params)\n",
    "model = bert_model\n",
    "model.to(device)\n",
    "optimizer = torch.optim.Adam(params =  model.parameters(), lr=1e-05)\n",
    "\n",
    "for epoch in range(1):\n",
    "    outputs = validation(epoch,training_loader)"
   ]
  },
  {
   "cell_type": "markdown",
   "metadata": {},
   "source": [
    "# Models"
   ]
  },
  {
   "cell_type": "markdown",
   "metadata": {},
   "source": [
    "# ConvNetwork"
   ]
  },
  {
   "cell_type": "code",
   "execution_count": 142,
   "metadata": {},
   "outputs": [
    {
     "data": {
      "text/plain": [
       "CNN_Text(\n",
       "  (convs): ModuleList(\n",
       "    (0): Conv2d(1, 128, kernel_size=(3, 50), stride=(1, 1))\n",
       "    (1): Conv2d(1, 128, kernel_size=(4, 50), stride=(1, 1))\n",
       "    (2): Conv2d(1, 128, kernel_size=(5, 50), stride=(1, 1))\n",
       "  )\n",
       "  (dropout): Dropout(p=0.2, inplace=False)\n",
       "  (fc1): Linear(in_features=384, out_features=150, bias=True)\n",
       "  (soft): LogSoftmax(dim=1)\n",
       ")"
      ]
     },
     "execution_count": 142,
     "metadata": {},
     "output_type": "execute_result"
    }
   ],
   "source": [
    "mod = CNN_Text(X_train.shape,len(df[df.group == 'train']['class'].unique()),0.2)\n",
    "mod"
   ]
  },
  {
   "cell_type": "code",
   "execution_count": 143,
   "metadata": {},
   "outputs": [],
   "source": [
    "class CNN_Text(nn.Module):\n",
    "    def __init__(self, inShape,outClasses,dp):\n",
    "        super(CNN_Text, self).__init__()\n",
    "        V = inShape[1]\n",
    "        D = inShape[2]\n",
    "        C = outClasses\n",
    "        Ci = 1\n",
    "        Co = 128\n",
    "        Ks = [3,4,5]\n",
    "        self.convs = nn.ModuleList([nn.Conv2d(Ci, Co, (K, D)) for K in Ks])\n",
    "        self.dropout = nn.Dropout(dp)\n",
    "        self.fc1 = nn.Linear(len(Ks) * Co, C)\n",
    "        self.soft = nn.LogSoftmax(dim=1)\n",
    "\n",
    "    def forward(self, x):\n",
    "        x = x.unsqueeze(1)  # (N, Ci, W, D)\n",
    "        x = [F.relu(conv(x)).squeeze(3) for conv in self.convs]  # [(N, Co, W), ...]*len(Ks)\n",
    "        x = [F.max_pool1d(i, i.size(2)).squeeze(2) for i in x]  # [(N, Co), ...]*len(Ks)\n",
    "        x = torch.cat(x, 1)\n",
    "        x = self.dropout(x)  # (N, len(Ks)*Co)\n",
    "        logit = self.fc1(x)  # (N, C)\n",
    "        out = self.soft(logit)\n",
    "        return out\n",
    "\n",
    "    \n",
    "def train(train_iter, dev_iter, model, opt,epochs,Loss):\n",
    "    model.cuda()\n",
    "    optimizer = opt\n",
    "    steps = 0\n",
    "    best_acc = 0\n",
    "    last_step = 0\n",
    "    log_interval=1\n",
    "    test_interval=100\n",
    "    early_stop=100\n",
    "    \n",
    "    for epoch in range(1, epochs+1):\n",
    "        for batch in train_iter:\n",
    "            model.train()\n",
    "            feature, target = batch.text, batch.label\n",
    "            feature.t_(), target.sub_(1)  # batch first, index align\n",
    "            feature, target = feature.cuda(), target.cuda()\n",
    "            optimizer.zero_grad()\n",
    "            logit = model(feature)\n",
    "            loss = Loss(logit, target)\n",
    "            loss.backward()\n",
    "            optimizer.step()\n",
    "            steps += 1\n",
    "            if steps % log_interval == 0:\n",
    "                corrects = (torch.max(logit, 1)[1].view(target.size()).data == target.data).sum()\n",
    "                accuracy = 100.0 * corrects/batch.batch_size\n",
    "                sys.stdout.write(\n",
    "                    '\\rBatch[{}] - loss: {:.6f}  acc: {:.4f}%({}/{})'.format(steps, \n",
    "                                                                             loss.item(), \n",
    "                                                                             accuracy.item(),\n",
    "                                                                             corrects.item(),\n",
    "                                                                             batch.batch_size))\n",
    "            if steps % test_interval == 0:\n",
    "                dev_acc = eval(dev_iter, model, Loss)\n",
    "                if dev_acc > best_acc:\n",
    "                    best_acc = dev_acc\n",
    "                    last_step = steps\n",
    "                    #if args.save_best:\n",
    "                    #    save(model, args.save_dir, 'best', steps)\n",
    "                else:\n",
    "                    if steps - last_step >= early_stop:\n",
    "                        print('early stop by {} steps.'.format(early_stop))\n",
    "            #elif steps % args.save_interval == 0:\n",
    "            #    save(model, args.save_dir, 'snapshot', steps)\n",
    "\n",
    "\n",
    "def eval(data_iter, model, Loss):\n",
    "    model.eval()\n",
    "    corrects, avg_loss = 0, 0\n",
    "    for batch in data_iter:\n",
    "        feature, target = batch.text, batch.label\n",
    "        feature.t_(), target.sub_(1)  # batch first, index align\n",
    "        feature, target = feature.cuda(), target.cuda()\n",
    "        logit = model(feature)\n",
    "        loss = Loss(logit, target, size_average=False)\n",
    "        avg_loss += loss.item()\n",
    "        corrects += (torch.max(logit, 1)\n",
    "                     [1].view(target.size()).data == target.data).sum()\n",
    "\n",
    "    size = len(data_iter.dataset)\n",
    "    avg_loss /= size\n",
    "    accuracy = 100.0 * corrects/size\n",
    "    print('\\nEvaluation - loss: {:.6f}  acc: {:.4f}%({}/{}) \\n'.format(avg_loss, \n",
    "                                                                       accuracy, \n",
    "                                                                       corrects, \n",
    "                                                                       size))\n",
    "    return accuracy\n",
    "\n",
    "def save(model, save_dir, save_prefix, steps):\n",
    "    if not os.path.isdir(save_dir):\n",
    "        os.makedirs(save_dir)\n",
    "    save_prefix = os.path.join(save_dir, save_prefix)\n",
    "    save_path = '{}_steps_{}.pt'.format(save_prefix, steps)\n",
    "    torch.save(model.state_dict(), save_path)\n",
    "    \n",
    "def customData(X,y):\n",
    "    "
   ]
  },
  {
   "cell_type": "code",
   "execution_count": null,
   "metadata": {},
   "outputs": [],
   "source": [
    "dropOut = 0.0\n",
    "batch_size = 128\n",
    "model = CNN_Text(X_train.shape,len(df[df.group == 'train']['class'].unique()),dropOut)\n",
    "optimizer =  torch.optim.Adam(model.parameters(), lr=0.001)\n",
    "Loss = nn.CrossEntropyLoss()\n",
    "epochs = 200\n",
    "train_iter = customData(X_train,y_train)\n",
    "dev_iter = customData(X_val,y_val)\n",
    "train(train_iter, dev_iter, model, optimizer,epochs,Loss)"
   ]
  },
  {
   "cell_type": "markdown",
   "metadata": {},
   "source": [
    "# FF network"
   ]
  },
  {
   "cell_type": "code",
   "execution_count": 186,
   "metadata": {},
   "outputs": [],
   "source": [
    "class FFnet(nn.Module):\n",
    "    def __init__(self,inputs_shape,k_classes):\n",
    "        super().__init__()\n",
    "        torch.manual_seed(0)\n",
    "        self.net = nn.Sequential( #sequential operation\n",
    "            nn.Linear(inputs_shape[1], 2048), \n",
    "            nn.ReLU(), \n",
    "            nn.Dropout(p=0.5),\n",
    "            nn.Linear(2048,1024), \n",
    "            nn.ReLU(), \n",
    "            nn.Dropout(p=0.5),\n",
    "            nn.Linear(1024, 512), \n",
    "            nn.ReLU(), \n",
    "            nn.Dropout(p=0.5),\n",
    "            nn.Linear(512, 256), \n",
    "            nn.ReLU(), \n",
    "            nn.Linear(256, k_classes), \n",
    "            nn.LogSoftmax(dim=1))\n",
    "\n",
    "    def forward(self, X):\n",
    "        return self.net(X)\n",
    "\n",
    "def fit_FFnet(x, y, model, opt, loss_fn, epochs = 10000):\n",
    "    \"\"\"Generic function for training a model \"\"\"\n",
    "    for epoch in range(epochs):\n",
    "        loss = loss_fn(model(x), y) \n",
    "\n",
    "        loss.backward()\n",
    "        opt.step()\n",
    "        opt.zero_grad()\n",
    "        \n",
    "        if(epoch % 500 == 0):\n",
    "            print('loss: ',loss)\n",
    "            print('ep: ', epoch)\n",
    "    \n",
    "    return loss.item()\n",
    "\n",
    "def accuracy(y_hat, y):\n",
    "     pred = torch.argmax(y_hat, dim=1)\n",
    "     return (pred == y).float().mean()"
   ]
  },
  {
   "cell_type": "code",
   "execution_count": 200,
   "metadata": {
    "collapsed": true,
    "jupyter": {
     "outputs_hidden": true
    }
   },
   "outputs": [
    {
     "name": "stdout",
     "output_type": "stream",
     "text": [
      "FFnet(\n",
      "  (net): Sequential(\n",
      "    (0): Linear(in_features=512, out_features=2048, bias=True)\n",
      "    (1): ReLU()\n",
      "    (2): Dropout(p=0.5, inplace=False)\n",
      "    (3): Linear(in_features=2048, out_features=1024, bias=True)\n",
      "    (4): ReLU()\n",
      "    (5): Dropout(p=0.5, inplace=False)\n",
      "    (6): Linear(in_features=1024, out_features=512, bias=True)\n",
      "    (7): ReLU()\n",
      "    (8): Dropout(p=0.5, inplace=False)\n",
      "    (9): Linear(in_features=512, out_features=256, bias=True)\n",
      "    (10): ReLU()\n",
      "    (11): Linear(in_features=256, out_features=150, bias=True)\n",
      "    (12): LogSoftmax(dim=1)\n",
      "  )\n",
      ")\n"
     ]
    },
    {
     "ename": "RuntimeError",
     "evalue": "CUDA out of memory. Tried to allocate 20.00 MiB (GPU 0; 4.00 GiB total capacity; 1.16 GiB already allocated; 0 bytes free; 1.21 GiB reserved in total by PyTorch)",
     "output_type": "error",
     "traceback": [
      "\u001b[1;31m---------------------------------------------------------------------------\u001b[0m",
      "\u001b[1;31mRuntimeError\u001b[0m                              Traceback (most recent call last)",
      "\u001b[1;32m<ipython-input-200-812402b32ca7>\u001b[0m in \u001b[0;36m<module>\u001b[1;34m\u001b[0m\n\u001b[0;32m     13\u001b[0m \u001b[1;33m\u001b[0m\u001b[0m\n\u001b[0;32m     14\u001b[0m \u001b[0mtic\u001b[0m \u001b[1;33m=\u001b[0m \u001b[0mtime\u001b[0m\u001b[1;33m.\u001b[0m\u001b[0mtime\u001b[0m\u001b[1;33m(\u001b[0m\u001b[1;33m)\u001b[0m\u001b[1;33m\u001b[0m\u001b[1;33m\u001b[0m\u001b[0m\n\u001b[1;32m---> 15\u001b[1;33m \u001b[0ml\u001b[0m \u001b[1;33m=\u001b[0m \u001b[0mfit_v2\u001b[0m\u001b[1;33m(\u001b[0m\u001b[0mX_train\u001b[0m\u001b[1;33m,\u001b[0m \u001b[0mY_train\u001b[0m\u001b[1;33m,\u001b[0m \u001b[0mmodel\u001b[0m\u001b[1;33m,\u001b[0m \u001b[0mopt\u001b[0m\u001b[1;33m,\u001b[0m \u001b[0mloss_fn\u001b[0m\u001b[1;33m)\u001b[0m\u001b[1;33m\u001b[0m\u001b[1;33m\u001b[0m\u001b[0m\n\u001b[0m\u001b[0;32m     16\u001b[0m \u001b[0mprint\u001b[0m\u001b[1;33m(\u001b[0m\u001b[1;34m'Final loss'\u001b[0m\u001b[1;33m,\u001b[0m \u001b[0ml\u001b[0m\u001b[1;33m)\u001b[0m\u001b[1;33m\u001b[0m\u001b[1;33m\u001b[0m\u001b[0m\n\u001b[0;32m     17\u001b[0m \u001b[0mtoc\u001b[0m \u001b[1;33m=\u001b[0m \u001b[0mtime\u001b[0m\u001b[1;33m.\u001b[0m\u001b[0mtime\u001b[0m\u001b[1;33m(\u001b[0m\u001b[1;33m)\u001b[0m\u001b[1;33m\u001b[0m\u001b[1;33m\u001b[0m\u001b[0m\n",
      "\u001b[1;32m<ipython-input-57-254091b3ccea>\u001b[0m in \u001b[0;36mfit_v2\u001b[1;34m(x, y, model, opt, loss_fn, epochs)\u001b[0m\n\u001b[0;32m     57\u001b[0m     \u001b[1;34m\"\"\"Generic function for training a model \"\"\"\u001b[0m\u001b[1;33m\u001b[0m\u001b[1;33m\u001b[0m\u001b[0m\n\u001b[0;32m     58\u001b[0m     \u001b[1;32mfor\u001b[0m \u001b[0mepoch\u001b[0m \u001b[1;32min\u001b[0m \u001b[0mrange\u001b[0m\u001b[1;33m(\u001b[0m\u001b[0mepochs\u001b[0m\u001b[1;33m)\u001b[0m\u001b[1;33m:\u001b[0m\u001b[1;33m\u001b[0m\u001b[1;33m\u001b[0m\u001b[0m\n\u001b[1;32m---> 59\u001b[1;33m         \u001b[0mloss\u001b[0m \u001b[1;33m=\u001b[0m \u001b[0mloss_fn\u001b[0m\u001b[1;33m(\u001b[0m\u001b[0mmodel\u001b[0m\u001b[1;33m(\u001b[0m\u001b[0mx\u001b[0m\u001b[1;33m)\u001b[0m\u001b[1;33m,\u001b[0m \u001b[0my\u001b[0m\u001b[1;33m)\u001b[0m\u001b[1;33m\u001b[0m\u001b[1;33m\u001b[0m\u001b[0m\n\u001b[0m\u001b[0;32m     60\u001b[0m \u001b[1;33m\u001b[0m\u001b[0m\n\u001b[0;32m     61\u001b[0m         \u001b[0mloss\u001b[0m\u001b[1;33m.\u001b[0m\u001b[0mbackward\u001b[0m\u001b[1;33m(\u001b[0m\u001b[1;33m)\u001b[0m\u001b[1;33m\u001b[0m\u001b[1;33m\u001b[0m\u001b[0m\n",
      "\u001b[1;32m~\\anaconda3\\lib\\site-packages\\torch\\nn\\modules\\module.py\u001b[0m in \u001b[0;36m_call_impl\u001b[1;34m(self, *input, **kwargs)\u001b[0m\n\u001b[0;32m    725\u001b[0m             \u001b[0mresult\u001b[0m \u001b[1;33m=\u001b[0m \u001b[0mself\u001b[0m\u001b[1;33m.\u001b[0m\u001b[0m_slow_forward\u001b[0m\u001b[1;33m(\u001b[0m\u001b[1;33m*\u001b[0m\u001b[0minput\u001b[0m\u001b[1;33m,\u001b[0m \u001b[1;33m**\u001b[0m\u001b[0mkwargs\u001b[0m\u001b[1;33m)\u001b[0m\u001b[1;33m\u001b[0m\u001b[1;33m\u001b[0m\u001b[0m\n\u001b[0;32m    726\u001b[0m         \u001b[1;32melse\u001b[0m\u001b[1;33m:\u001b[0m\u001b[1;33m\u001b[0m\u001b[1;33m\u001b[0m\u001b[0m\n\u001b[1;32m--> 727\u001b[1;33m             \u001b[0mresult\u001b[0m \u001b[1;33m=\u001b[0m \u001b[0mself\u001b[0m\u001b[1;33m.\u001b[0m\u001b[0mforward\u001b[0m\u001b[1;33m(\u001b[0m\u001b[1;33m*\u001b[0m\u001b[0minput\u001b[0m\u001b[1;33m,\u001b[0m \u001b[1;33m**\u001b[0m\u001b[0mkwargs\u001b[0m\u001b[1;33m)\u001b[0m\u001b[1;33m\u001b[0m\u001b[1;33m\u001b[0m\u001b[0m\n\u001b[0m\u001b[0;32m    728\u001b[0m         for hook in itertools.chain(\n\u001b[0;32m    729\u001b[0m                 \u001b[0m_global_forward_hooks\u001b[0m\u001b[1;33m.\u001b[0m\u001b[0mvalues\u001b[0m\u001b[1;33m(\u001b[0m\u001b[1;33m)\u001b[0m\u001b[1;33m,\u001b[0m\u001b[1;33m\u001b[0m\u001b[1;33m\u001b[0m\u001b[0m\n",
      "\u001b[1;32m~\\anaconda3\\lib\\site-packages\\torch\\nn\\modules\\loss.py\u001b[0m in \u001b[0;36mforward\u001b[1;34m(self, input, target)\u001b[0m\n\u001b[0;32m    959\u001b[0m \u001b[1;33m\u001b[0m\u001b[0m\n\u001b[0;32m    960\u001b[0m     \u001b[1;32mdef\u001b[0m \u001b[0mforward\u001b[0m\u001b[1;33m(\u001b[0m\u001b[0mself\u001b[0m\u001b[1;33m,\u001b[0m \u001b[0minput\u001b[0m\u001b[1;33m:\u001b[0m \u001b[0mTensor\u001b[0m\u001b[1;33m,\u001b[0m \u001b[0mtarget\u001b[0m\u001b[1;33m:\u001b[0m \u001b[0mTensor\u001b[0m\u001b[1;33m)\u001b[0m \u001b[1;33m->\u001b[0m \u001b[0mTensor\u001b[0m\u001b[1;33m:\u001b[0m\u001b[1;33m\u001b[0m\u001b[1;33m\u001b[0m\u001b[0m\n\u001b[1;32m--> 961\u001b[1;33m         return F.cross_entropy(input, target, weight=self.weight,\n\u001b[0m\u001b[0;32m    962\u001b[0m                                ignore_index=self.ignore_index, reduction=self.reduction)\n\u001b[0;32m    963\u001b[0m \u001b[1;33m\u001b[0m\u001b[0m\n",
      "\u001b[1;32m~\\anaconda3\\lib\\site-packages\\torch\\nn\\functional.py\u001b[0m in \u001b[0;36mcross_entropy\u001b[1;34m(input, target, weight, size_average, ignore_index, reduce, reduction)\u001b[0m\n\u001b[0;32m   2466\u001b[0m     \u001b[1;32mif\u001b[0m \u001b[0msize_average\u001b[0m \u001b[1;32mis\u001b[0m \u001b[1;32mnot\u001b[0m \u001b[1;32mNone\u001b[0m \u001b[1;32mor\u001b[0m \u001b[0mreduce\u001b[0m \u001b[1;32mis\u001b[0m \u001b[1;32mnot\u001b[0m \u001b[1;32mNone\u001b[0m\u001b[1;33m:\u001b[0m\u001b[1;33m\u001b[0m\u001b[1;33m\u001b[0m\u001b[0m\n\u001b[0;32m   2467\u001b[0m         \u001b[0mreduction\u001b[0m \u001b[1;33m=\u001b[0m \u001b[0m_Reduction\u001b[0m\u001b[1;33m.\u001b[0m\u001b[0mlegacy_get_string\u001b[0m\u001b[1;33m(\u001b[0m\u001b[0msize_average\u001b[0m\u001b[1;33m,\u001b[0m \u001b[0mreduce\u001b[0m\u001b[1;33m)\u001b[0m\u001b[1;33m\u001b[0m\u001b[1;33m\u001b[0m\u001b[0m\n\u001b[1;32m-> 2468\u001b[1;33m     \u001b[1;32mreturn\u001b[0m \u001b[0mnll_loss\u001b[0m\u001b[1;33m(\u001b[0m\u001b[0mlog_softmax\u001b[0m\u001b[1;33m(\u001b[0m\u001b[0minput\u001b[0m\u001b[1;33m,\u001b[0m \u001b[1;36m1\u001b[0m\u001b[1;33m)\u001b[0m\u001b[1;33m,\u001b[0m \u001b[0mtarget\u001b[0m\u001b[1;33m,\u001b[0m \u001b[0mweight\u001b[0m\u001b[1;33m,\u001b[0m \u001b[1;32mNone\u001b[0m\u001b[1;33m,\u001b[0m \u001b[0mignore_index\u001b[0m\u001b[1;33m,\u001b[0m \u001b[1;32mNone\u001b[0m\u001b[1;33m,\u001b[0m \u001b[0mreduction\u001b[0m\u001b[1;33m)\u001b[0m\u001b[1;33m\u001b[0m\u001b[1;33m\u001b[0m\u001b[0m\n\u001b[0m\u001b[0;32m   2469\u001b[0m \u001b[1;33m\u001b[0m\u001b[0m\n\u001b[0;32m   2470\u001b[0m \u001b[1;33m\u001b[0m\u001b[0m\n",
      "\u001b[1;32m~\\anaconda3\\lib\\site-packages\\torch\\nn\\functional.py\u001b[0m in \u001b[0;36mlog_softmax\u001b[1;34m(input, dim, _stacklevel, dtype)\u001b[0m\n\u001b[0;32m   1603\u001b[0m         \u001b[0mdim\u001b[0m \u001b[1;33m=\u001b[0m \u001b[0m_get_softmax_dim\u001b[0m\u001b[1;33m(\u001b[0m\u001b[1;34m'log_softmax'\u001b[0m\u001b[1;33m,\u001b[0m \u001b[0minput\u001b[0m\u001b[1;33m.\u001b[0m\u001b[0mdim\u001b[0m\u001b[1;33m(\u001b[0m\u001b[1;33m)\u001b[0m\u001b[1;33m,\u001b[0m \u001b[0m_stacklevel\u001b[0m\u001b[1;33m)\u001b[0m\u001b[1;33m\u001b[0m\u001b[1;33m\u001b[0m\u001b[0m\n\u001b[0;32m   1604\u001b[0m     \u001b[1;32mif\u001b[0m \u001b[0mdtype\u001b[0m \u001b[1;32mis\u001b[0m \u001b[1;32mNone\u001b[0m\u001b[1;33m:\u001b[0m\u001b[1;33m\u001b[0m\u001b[1;33m\u001b[0m\u001b[0m\n\u001b[1;32m-> 1605\u001b[1;33m         \u001b[0mret\u001b[0m \u001b[1;33m=\u001b[0m \u001b[0minput\u001b[0m\u001b[1;33m.\u001b[0m\u001b[0mlog_softmax\u001b[0m\u001b[1;33m(\u001b[0m\u001b[0mdim\u001b[0m\u001b[1;33m)\u001b[0m\u001b[1;33m\u001b[0m\u001b[1;33m\u001b[0m\u001b[0m\n\u001b[0m\u001b[0;32m   1606\u001b[0m     \u001b[1;32melse\u001b[0m\u001b[1;33m:\u001b[0m\u001b[1;33m\u001b[0m\u001b[1;33m\u001b[0m\u001b[0m\n\u001b[0;32m   1607\u001b[0m         \u001b[0mret\u001b[0m \u001b[1;33m=\u001b[0m \u001b[0minput\u001b[0m\u001b[1;33m.\u001b[0m\u001b[0mlog_softmax\u001b[0m\u001b[1;33m(\u001b[0m\u001b[0mdim\u001b[0m\u001b[1;33m,\u001b[0m \u001b[0mdtype\u001b[0m\u001b[1;33m=\u001b[0m\u001b[0mdtype\u001b[0m\u001b[1;33m)\u001b[0m\u001b[1;33m\u001b[0m\u001b[1;33m\u001b[0m\u001b[0m\n",
      "\u001b[1;31mRuntimeError\u001b[0m: CUDA out of memory. Tried to allocate 20.00 MiB (GPU 0; 4.00 GiB total capacity; 1.16 GiB already allocated; 0 bytes free; 1.21 GiB reserved in total by PyTorch)"
     ]
    }
   ],
   "source": [
    "X_train = emb_USE(df[df.group == 'train'],emb_use_large) \n",
    "Y_train = torch.tensor(df[df.group == 'train']['class'].values)\n",
    "k_classes = len(df['class'].unique())\n",
    "X_train=X_train.to(device)\n",
    "Y_train=Y_train.to(device)\n",
    "\n",
    "model = FFnet(X_train.shape,k_classes)\n",
    "print(model)\n",
    "model.to(device) #moving the network to GPU\n",
    "\n",
    "loss_fn = nn.CrossEntropyLoss()\n",
    "opt = torch.optim.Adam(model.parameters(), lr=0.00005)\n",
    "\n",
    "tic = time.time()\n",
    "l = fit_v2(X_train, Y_train, model, opt, loss_fn)\n",
    "print('Final loss', l)\n",
    "toc = time.time()\n",
    "print('Time taken', (toc - tic)/60.)\n",
    "\n",
    "X_val = emb_USE(df[df.group == 'val'],emb_use_large) \n",
    "X_val = X_val.to(device)\n",
    "y_val = torch.tensor(df[df.group == 'val']['class'].values)\n",
    "y_pred = model(X_val).cpu()\n",
    "print('Acc: ', accuracy(y_pred, y_val))"
   ]
  },
  {
   "cell_type": "code",
   "execution_count": 184,
   "metadata": {},
   "outputs": [
    {
     "data": {
      "image/png": "[encoded data removed]",
      "text/plain": [
       "<Figure size 432x288 with 1 Axes>"
      ]
     },
     "metadata": {
      "needs_background": "light"
     },
     "output_type": "display_data"
    },
    {
     "name": "stdout",
     "output_type": "stream",
     "text": [
      "Most common class missclasiffied\n",
      "class:  ['ENTY']  errors:  30\n",
      "class:  ['LOC']  errors:  23\n",
      "class:  ['HUM']  errors:  13\n",
      "class:  ['NUM']  errors:  9\n",
      "class:  ['DESC']  errors:  9\n",
      "Most common pair of missclasiffied\n",
      "class1:  ['LOC']  class2:  ['ENTY']  errors:  12\n",
      "class1:  ['ENTY']  class2:  ['LOC']  errors:  11\n",
      "class1:  ['ENTY']  class2:  ['NUM']  errors:  10\n",
      "class1:  ['NUM']  class2:  ['ENTY']  errors:  7\n",
      "class1:  ['HUM']  class2:  ['DESC']  errors:  7\n",
      "class1:  ['ENTY']  class2:  ['DESC']  errors:  6\n",
      "class1:  ['LOC']  class2:  ['HUM']  errors:  6\n",
      "class1:  ['DESC']  class2:  ['HUM']  errors:  6\n",
      "class1:  ['LOC']  class2:  ['NUM']  errors:  4\n",
      "class1:  ['HUM']  class2:  ['LOC']  errors:  3\n",
      "class1:  ['ENTY']  class2:  ['HUM']  errors:  3\n",
      "class1:  ['NUM']  class2:  ['LOC']  errors:  2\n",
      "class1:  ['HUM']  class2:  ['ENTY']  errors:  2\n",
      "class1:  ['DESC']  class2:  ['LOC']  errors:  2\n",
      "class1:  ['DESC']  class2:  ['ENTY']  errors:  1\n",
      "class1:  ['HUM']  class2:  ['NUM']  errors:  1\n",
      "class1:  ['LOC']  class2:  ['DESC']  errors:  1\n"
     ]
    }
   ],
   "source": [
    "def err_info(y,y_pred,pars=True):\n",
    "    targets = y\n",
    "    outputs = y_pred.detach().numpy()\n",
    "    sum = 0\n",
    "    errs = list()\n",
    "    pairs = list()\n",
    "    for i in range(outputs.shape[0]):\n",
    "        y_pred = np.where(outputs[i] == np.amax(outputs[i]))[0][0]\n",
    "        y = targets[i]\n",
    "        if (y == y_pred):\n",
    "            sum += 1.\n",
    "        else:\n",
    "            errs.append(int(y.numpy()))\n",
    "            pairs.append((int(y.numpy()),y_pred))\n",
    "    plt.hist(errs)\n",
    "    plt.show()\n",
    "\n",
    "    encoder = LabelEncoder()\n",
    "    encoder.classes_ = np.load(path_data+dataset+'-classesEncoder.npy',allow_pickle=True)\n",
    "\n",
    "    print('Most common class missclasiffied')\n",
    "    for c,v in Counter(errs).most_common():\n",
    "        print('class: ',encoder.inverse_transform([c]),' errors: ',v)\n",
    "\n",
    "    print('Most common pair of missclasiffied')\n",
    "    if(pars):\n",
    "        for t,v in Counter(pairs).most_common():\n",
    "            c1,c2 = t\n",
    "            print('class1: ',encoder.inverse_transform([c1]),' class2: ',encoder.inverse_transform([c2]) ,' errors: ',v)\n",
    "    return errs\n",
    "\n",
    "errs = err_info(y_val,y_pred)"
   ]
  },
  {
   "cell_type": "code",
   "execution_count": 192,
   "metadata": {},
   "outputs": [
    {
     "data": {
      "image/png": "[encoded data removed]",
      "text/plain": [
       "<Figure size 432x288 with 1 Axes>"
      ]
     },
     "metadata": {
      "needs_background": "light"
     },
     "output_type": "display_data"
    }
   ],
   "source": [
    "plt.hist(df[df.group == 'val']['class'].values,label='labels',alpha=.8, edgecolor='red')\n",
    "plt.hist(errs,label='errs',alpha=0.7, edgecolor='yellow')\n",
    "plt.legend()\n",
    "plt.show()"
   ]
  }
 ],
 "metadata": {
  "kernelspec": {
   "display_name": "Python 3",
   "language": "python",
   "name": "python3"
  },
  "language_info": {
   "codemirror_mode": {
    "name": "ipython",
    "version": 3
   },
   "file_extension": ".py",
   "mimetype": "text/x-python",
   "name": "python",
   "nbconvert_exporter": "python",
   "pygments_lexer": "ipython3",
   "version": "3.8.5"
  }
 },
 "nbformat": 4,
 "nbformat_minor": 4
}
